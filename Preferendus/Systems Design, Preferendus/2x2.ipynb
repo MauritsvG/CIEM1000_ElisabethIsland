{
 "cells": [
  {
   "cell_type": "markdown",
   "id": "da441392",
   "metadata": {},
   "source": [
    "In this file we will create the 2x2 file"
   ]
  },
  {
   "cell_type": "markdown",
   "id": "c7a01bae",
   "metadata": {},
   "source": [
    "## Coding of the 2x2 matrix"
   ]
  },
  {
   "cell_type": "code",
   "execution_count": 2,
   "id": "e00ecf52",
   "metadata": {},
   "outputs": [],
   "source": [
    "import matplotlib.pyplot as plt\n",
    "import numpy as np\n",
    "from scipy.interpolate import pchip_interpolate\n",
    "\n",
    "from genetic_algorithm_pfm.genetic_algorithm_pfm.algorithm import GeneticAlgorithm"
   ]
  },
  {
   "cell_type": "code",
   "execution_count": 3,
   "id": "0e43c719",
   "metadata": {},
   "outputs": [
    {
     "name": "stdout",
     "output_type": "stream",
     "text": [
      "Total cost: 8.70e+10 EUR\n",
      "Total emissions: 2.61e+10 kg CO2\n"
     ]
    }
   ],
   "source": [
    "# x1 1000 to 60000\n",
    "# x2 ranges from 0 to 50000m\n",
    "\n",
    "x1 = 60000\n",
    "x2 = 450000\n",
    "\n",
    "c1 = 25   # Costs per material m3\n",
    "c2 = 4   # Cost of fuel use per L\n",
    "c3 = 0.1   # Emission of materials per m3\n",
    "c4 = 1.2   # Emission of fuel per L\n",
    "\n",
    "k1 = 1.7   # Height of island\n",
    "k2 = 1.9   # Ship size\n",
    "k3 = 0.9   # fuel use per km\n",
    "\n",
    "F1 = x1 * k1 # Material in m3\n",
    "F2 = k3 * ((F1 / k2) *x2) # Fuel in L\n",
    "\n",
    "O1 = F1 * c1 + F2 * c2 #total cost\n",
    "O2 = F1 * c3 + F2 * c4\n",
    "\n",
    "print(f'Total cost: {O1:.2e} EUR')\n",
    "print(f\"Total emissions: {O2:.2e} kg CO2\")"
   ]
  },
  {
   "cell_type": "code",
   "execution_count": 19,
   "id": "9e92fe09",
   "metadata": {},
   "outputs": [],
   "source": [
    "w1 = .50 #ELIA\n",
    "w2 = .50 #EIB\n",
    "\n",
    "def objective_p1(x1, x2):\n",
    "    \"\"\"\n",
    "    Objective to maximize the profit.\n",
    "    x1: size of the island (in m2)\n",
    "    x2: distance to the mainland (in m)\n",
    "    \"\"\"\n",
    "    F1 = x1 * k1 # Material in m3\n",
    "    F2 = k3 * ((F1 / k2) *x2) # Fuel in L\n",
    "\n",
    "    O1 = F1 * c1 + F2 * c2 \n",
    "    return pchip_interpolate([3, 25, 100], [100, 20, 0], O1)\n",
    "\n",
    "def objective_p2(x1, x2):\n",
    "    \"\"\"\n",
    "    Objective to maximize the amount of affordable houses.\n",
    "    x1: size of the island (in m2)\n",
    "    x2: distance to the mainland (in m)\n",
    "    \"\"\"\n",
    "    F1 = x1 * k1 # Material in m3\n",
    "    F2 = k3 * ((F1 / k2) *x2) # Fuel in L\n",
    "\n",
    "    O2 = F1 * c3 + F2 * c4\n",
    "    return pchip_interpolate([3, 40, 100], [100, 80, 0], O2)"
   ]
  },
  {
   "cell_type": "code",
   "execution_count": 18,
   "id": "547b4ab6",
   "metadata": {},
   "outputs": [
    {
     "data": {
      "text/plain": [
       "[<matplotlib.lines.Line2D at 0x20fa67238f0>]"
      ]
     },
     "execution_count": 18,
     "metadata": {},
     "output_type": "execute_result"
    },
    {
     "data": {
      "image/png": "[encoded data removed]",
      "text/plain": [
       "<Figure size 640x480 with 1 Axes>"
      ]
     },
     "metadata": {},
     "output_type": "display_data"
    }
   ],
   "source": [
    "c1 = np.linspace(3, 100)\n",
    "p1 = pchip_interpolate([3, 40, 100], [100, 80, 0], (c1))\n",
    "\n",
    "plt.plot(c1, p1)"
   ]
  },
  {
   "cell_type": "code",
   "execution_count": null,
   "id": "8eb3a63e",
   "metadata": {},
   "outputs": [],
   "source": []
  }
 ],
 "metadata": {
  "kernelspec": {
   "display_name": "base",
   "language": "python",
   "name": "python3"
  },
  "language_info": {
   "codemirror_mode": {
    "name": "ipython",
    "version": 3
   },
   "file_extension": ".py",
   "mimetype": "text/x-python",
   "name": "python",
   "nbconvert_exporter": "python",
   "pygments_lexer": "ipython3",
   "version": "3.12.11"
  }
 },
 "nbformat": 4,
 "nbformat_minor": 5
}
