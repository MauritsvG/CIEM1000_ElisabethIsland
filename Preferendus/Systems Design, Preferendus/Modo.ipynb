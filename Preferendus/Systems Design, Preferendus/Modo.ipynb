{
 "cells": [
  {
   "cell_type": "code",
   "execution_count": 7,
   "id": "425435a8",
   "metadata": {},
   "outputs": [],
   "source": [
    "#correct things are imported\n",
    "import matplotlib.pyplot as plt\n",
    "import numpy as np\n",
    "from scipy.interpolate import pchip_interpolate\n",
    "\n",
    "from genetic_algorithm_pfm.genetic_algorithm_pfm.algorithm import GeneticAlgorithm"
   ]
  },
  {
   "cell_type": "code",
   "execution_count": 8,
   "id": "5164405d",
   "metadata": {},
   "outputs": [],
   "source": [
    "# x1 = area in m2\n",
    "# x2 = distance from shore\n",
    "# x3 = eco friendly building cost\n",
    "\n",
    "c1 = 25   # Costs per material m3\n",
    "c2 = 4   # Cost of fuel use per L\n",
    "c3 = 0.1   # Emission of materials per m3\n",
    "c4 = 1.2   # Emission of fuel per L\n",
    "c5 = 150000 # Capacity per m2 in kW / m2\n",
    "c6 = 1/10 # Scaling factor feasible distance\n",
    "c7 = 1 #still has to be defined\n",
    "c8 = 1 #still has to be defined\n",
    "c9 = 1 #still has to be defined\n",
    "c10 = 1 #still has to be defined\n",
    "\n",
    "k1 = 1.7   # Height of island\n",
    "k2 = 1.9   # Ship size\n",
    "k3 = 0.0009   # fuel use per m\n",
    "\n",
    "constants_list = [c1, c2, c3, c4, c5, c6, c7, c8, c9, c10, k1, k2, k3]\n",
    "\n",
    "def F1(x1, x2, x3, constants_list=constants_list): #this function calculates the total material use in m3\n",
    "    F1_completed = x1 * constants_list[10]\n",
    "    return F1_completed\n",
    "\n",
    "def F2(x1, x2, x3, constants_list=constants_list): #this function calculates the total fuel use in L\n",
    "    F1_run = F1(x1, x2, x3, constants_list)\n",
    "    F2_completed = constants_list[12] * ((F1_run / constants_list[11]) *x2)\n",
    "    return F2_run"
   ]
  },
  {
   "cell_type": "code",
   "execution_count": 9,
   "id": "ca890d9f",
   "metadata": {},
   "outputs": [],
   "source": [
    "def objective_p1(x1, x2, x3, constants_list):\n",
    "    \"\"\"\n",
    "    Objective to minimize the costs\n",
    "    x1: size of the island (in m2)\n",
    "    x2: distance to the mainland (in m)\n",
    "    x3: cost of ecofriendly building\n",
    "    Result: the cost of building the island in euro\n",
    "    \"\"\"\n",
    "    F1 = F1(x1, x2, x3, constants_list) # Material in m3\n",
    "    F2 = F2(x1, x2, x3, constants_list) # Fuel in L\n",
    "    \n",
    "    O1 = F1 * c1 + F2 * c2 + x3\n",
    "    return pchip_interpolate([1, 10, 50], [100, 20, 0], O1)\n",
    "#the pchip interpolate has wrong values, these need to be changed!!!!!!!!!"
   ]
  },
  {
   "cell_type": "code",
   "execution_count": 10,
   "id": "db191da0",
   "metadata": {},
   "outputs": [],
   "source": [
    "def objective_p2(x1, x2, x3, constants_list=constants_list):\n",
    "    \"\"\"\n",
    "    Objective to minimize the emissions.\n",
    "    x1: size of the island (in m2)\n",
    "    x2: distance to the mainland (in m)\n",
    "\n",
    "    Result: total emissions of co2 in kg\n",
    "    \"\"\"\n",
    "    F1 = F1(x1, x2, x3, constants_list) # Material in m3\n",
    "    F2 = F2(x1, x2, x3, constants_list) # Fuel in L\n",
    "\n",
    "    O2 = F1 * c3 + F2 * c4\n",
    "    return pchip_interpolate([0.5, 4, 10], [100, 80, 0], O2)\n",
    "#the pchip interpolate has wrong values, these need to be changed!!!!!!!!!"
   ]
  },
  {
   "cell_type": "code",
   "execution_count": 11,
   "id": "e5706b71",
   "metadata": {},
   "outputs": [],
   "source": [
    "def objective_p3(x1, x2, x3, constants_list=constants_list):\n",
    "    \"\"\"\n",
    "    Objective to minimize the emissions.\n",
    "    x1: size of the island (in m2)\n",
    "    x2: distance to the mainland (in m)\n",
    "\n",
    "    Result: amount of W that the island is able to produce\n",
    "    \"\"\"\n",
    "\n",
    "    O3 = x1 * c5 * (np.exp(-c6 * x2) + 1)\n",
    "\n",
    "    return pchip_interpolate([0, 1, 5 , 8.5], [0, 0, 100 ,100], O3)\n",
    "#the pchip interpolate has wrong values, these need to be changed!!!!!!!!!"
   ]
  },
  {
   "cell_type": "code",
   "execution_count": 12,
   "id": "4598db38",
   "metadata": {},
   "outputs": [],
   "source": [
    "def objective(variables):\n",
    "    \"\"\"\n",
    "    Objective function that is fed to the GA. Calles the separate preference functions that are declared above.\n",
    "\n",
    "    :param variables: array with design variable values per member of the population. Can be split by using array\n",
    "    slicing\n",
    "    :return: 1D-array with aggregated preference scores for the members of the population.\n",
    "    \"\"\"\n",
    "    # extract 1D design variable arrays from full 'variables' array\n",
    "    x1 = variables[:, 0]\n",
    "    x2 = variables[:, 1]\n",
    "    x3 = variables[:, 2]\n",
    "\n",
    "    # calculate the preference scores\n",
    "    p_1 = objective_p1(x1, x2, x3)\n",
    "    p_2 = objective_p2(x1, x2, x3)\n",
    "    p_3 = objective_p3(x1, x2, x3)\n",
    "\n",
    "    # aggregate preference scores and return this to the GA\n",
    "    return [0.34, 0.33, 0.33], [p_1, p_2, p_3]"
   ]
  },
  {
   "cell_type": "code",
   "execution_count": 13,
   "id": "6c23bde2",
   "metadata": {},
   "outputs": [],
   "source": [
    "#fuctions for constraints\n",
    "cons = []\n",
    "\n",
    "b1 = [5, 10000]  # x1 bounds\n",
    "b2 = [5, 40000]  # x2 bounds\n",
    "b3 = [0, 1]  # x3 bounds\n",
    "#b4 bound for x4\n",
    "bounds = [b1, b2, b3]"
   ]
  },
  {
   "cell_type": "code",
   "execution_count": 14,
   "id": "9cc0a3b0",
   "metadata": {},
   "outputs": [
    {
     "name": "stdout",
     "output_type": "stream",
     "text": [
      "Run GA with minmax\n",
      "\u001b[93mThe type of aggregation is set to minmax\u001b[0m\n",
      "Generation   Best score   Mean             Max stall    Diversity    Number of non-feasible results\n",
      "8\n",
      "5\n",
      "243\n",
      "256\n",
      "10000\n"
     ]
    },
    {
     "ename": "ValueError",
     "evalue": "X2 > 7000. Je script is kapot!",
     "output_type": "error",
     "traceback": [
      "\u001b[1;31m---------------------------------------------------------------------------\u001b[0m",
      "\u001b[1;31mValueError\u001b[0m                                Traceback (most recent call last)",
      "Cell \u001b[1;32mIn[14], line 21\u001b[0m\n\u001b[0;32m     19\u001b[0m \u001b[38;5;28mprint\u001b[39m(\u001b[38;5;124mf\u001b[39m\u001b[38;5;124m'\u001b[39m\u001b[38;5;124mRun GA with \u001b[39m\u001b[38;5;124m'\u001b[39m \u001b[38;5;241m+\u001b[39m paradigm[i])\n\u001b[0;32m     20\u001b[0m ga \u001b[38;5;241m=\u001b[39m GeneticAlgorithm(objective\u001b[38;5;241m=\u001b[39mobjective, constraints\u001b[38;5;241m=\u001b[39mcons, bounds\u001b[38;5;241m=\u001b[39mbounds, options\u001b[38;5;241m=\u001b[39moptions)\n\u001b[1;32m---> 21\u001b[0m score_IMAP, design_variables_IMAP, _ \u001b[38;5;241m=\u001b[39m \u001b[43mga\u001b[49m\u001b[38;5;241;43m.\u001b[39;49m\u001b[43mrun\u001b[49m\u001b[43m(\u001b[49m\u001b[43m)\u001b[49m\n",
      "File \u001b[1;32mc:\\Users\\mauri\\OneDrive\\Bureaublad\\TU Delft\\Master\\Year 1\\CIEM1000\\CIEM1000_ElisabethIsland\\Preferendus\\Systems Design, Preferendus\\genetic_algorithm_pfm\\genetic_algorithm_pfm\\algorithm.py:397\u001b[0m, in \u001b[0;36mGeneticAlgorithm.run\u001b[1;34m(self, verbose)\u001b[0m\n\u001b[0;32m    395\u001b[0m     best_eval, decoded, best \u001b[38;5;241m=\u001b[39m \u001b[38;5;28mself\u001b[39m\u001b[38;5;241m.\u001b[39m_runner(pop, r_count, verbose, aggregation\u001b[38;5;241m=\u001b[39m\u001b[38;5;124m'\u001b[39m\u001b[38;5;124mtetra\u001b[39m\u001b[38;5;124m'\u001b[39m)\n\u001b[0;32m    396\u001b[0m \u001b[38;5;28;01melif\u001b[39;00m \u001b[38;5;28mself\u001b[39m\u001b[38;5;241m.\u001b[39maggregation \u001b[38;5;241m==\u001b[39m \u001b[38;5;124m'\u001b[39m\u001b[38;5;124mminmax\u001b[39m\u001b[38;5;124m'\u001b[39m:\n\u001b[1;32m--> 397\u001b[0m     best_eval, decoded, best \u001b[38;5;241m=\u001b[39m \u001b[38;5;28;43mself\u001b[39;49m\u001b[38;5;241;43m.\u001b[39;49m\u001b[43m_runner\u001b[49m\u001b[43m(\u001b[49m\u001b[43mpop\u001b[49m\u001b[43m,\u001b[49m\u001b[43m \u001b[49m\u001b[43mr_count\u001b[49m\u001b[43m,\u001b[49m\u001b[43m \u001b[49m\u001b[43mverbose\u001b[49m\u001b[43m,\u001b[49m\u001b[43m \u001b[49m\u001b[43maggregation\u001b[49m\u001b[38;5;241;43m=\u001b[39;49m\u001b[38;5;124;43m'\u001b[39;49m\u001b[38;5;124;43mminmax\u001b[39;49m\u001b[38;5;124;43m'\u001b[39;49m\u001b[43m)\u001b[49m\n\u001b[0;32m    399\u001b[0m \u001b[38;5;28;01melse\u001b[39;00m:\n\u001b[0;32m    400\u001b[0m     best_eval, decoded, best \u001b[38;5;241m=\u001b[39m \u001b[38;5;28mself\u001b[39m\u001b[38;5;241m.\u001b[39m_runner(pop, r_count, verbose)\n",
      "File \u001b[1;32mc:\\Users\\mauri\\OneDrive\\Bureaublad\\TU Delft\\Master\\Year 1\\CIEM1000\\CIEM1000_ElisabethIsland\\Preferendus\\Systems Design, Preferendus\\genetic_algorithm_pfm\\genetic_algorithm_pfm\\algorithm.py:234\u001b[0m, in \u001b[0;36mGeneticAlgorithm._runner\u001b[1;34m(self, pop, r_count, verbose, aggregation)\u001b[0m\n\u001b[0;32m    231\u001b[0m best_eval_old \u001b[38;5;241m=\u001b[39m best_eval\n\u001b[0;32m    233\u001b[0m \u001b[38;5;66;03m# decode population. Should be np.array to make masks possible\u001b[39;00m\n\u001b[1;32m--> 234\u001b[0m decoded \u001b[38;5;241m=\u001b[39m np\u001b[38;5;241m.\u001b[39marray([\u001b[38;5;28;43mself\u001b[39;49m\u001b[38;5;241;43m.\u001b[39;49m\u001b[43mdec\u001b[49m\u001b[38;5;241;43m.\u001b[39;49m\u001b[43mdecode\u001b[49m\u001b[43m(\u001b[49m\u001b[43mp\u001b[49m\u001b[43m)\u001b[49m \u001b[38;5;28;01mfor\u001b[39;00m p \u001b[38;5;129;01min\u001b[39;00m pop])\n\u001b[0;32m    236\u001b[0m \u001b[38;5;66;03m# check diversity:\u001b[39;00m\n\u001b[0;32m    237\u001b[0m check_div \u001b[38;5;241m=\u001b[39m \u001b[38;5;28mround\u001b[39m(np\u001b[38;5;241m.\u001b[39mmax(np\u001b[38;5;241m.\u001b[39munique(decoded, return_counts\u001b[38;5;241m=\u001b[39m\u001b[38;5;28;01mTrue\u001b[39;00m)[\u001b[38;5;241m1\u001b[39m]) \u001b[38;5;241m/\u001b[39m (\u001b[38;5;28mlen\u001b[39m(pop) \u001b[38;5;241m*\u001b[39m \u001b[38;5;28mlen\u001b[39m(pop[\u001b[38;5;241m0\u001b[39m])), \u001b[38;5;241m3\u001b[39m)\n",
      "File \u001b[1;32mc:\\Users\\mauri\\OneDrive\\Bureaublad\\TU Delft\\Master\\Year 1\\CIEM1000\\CIEM1000_ElisabethIsland\\Preferendus\\Systems Design, Preferendus\\genetic_algorithm_pfm\\genetic_algorithm_pfm\\_decoder.py:40\u001b[0m, in \u001b[0;36m_Decoding.decode\u001b[1;34m(self, member)\u001b[0m\n\u001b[0;32m     38\u001b[0m \u001b[38;5;28;01mfor\u001b[39;00m i \u001b[38;5;129;01min\u001b[39;00m \u001b[38;5;28mrange\u001b[39m(\u001b[38;5;28mlen\u001b[39m(\u001b[38;5;28mself\u001b[39m\u001b[38;5;241m.\u001b[39mbounds)):\n\u001b[0;32m     39\u001b[0m     \u001b[38;5;28;01mif\u001b[39;00m \u001b[38;5;28mself\u001b[39m\u001b[38;5;241m.\u001b[39mapproach[i] \u001b[38;5;241m==\u001b[39m \u001b[38;5;124m'\u001b[39m\u001b[38;5;124mreal\u001b[39m\u001b[38;5;124m'\u001b[39m:\n\u001b[1;32m---> 40\u001b[0m         decoded\u001b[38;5;241m.\u001b[39mappend(\u001b[38;5;28;43mself\u001b[39;49m\u001b[38;5;241;43m.\u001b[39;49m\u001b[43m_decode_real\u001b[49m\u001b[43m(\u001b[49m\u001b[43mmember\u001b[49m\u001b[43m[\u001b[49m\u001b[43mi\u001b[49m\u001b[43m]\u001b[49m\u001b[43m,\u001b[49m\u001b[43m \u001b[49m\u001b[38;5;28;43mself\u001b[39;49m\u001b[38;5;241;43m.\u001b[39;49m\u001b[43mbounds\u001b[49m\u001b[43m[\u001b[49m\u001b[43mi\u001b[49m\u001b[43m]\u001b[49m\u001b[43m)\u001b[49m)\n\u001b[0;32m     41\u001b[0m     \u001b[38;5;28;01melse\u001b[39;00m:\n\u001b[0;32m     42\u001b[0m         decoded\u001b[38;5;241m.\u001b[39mappend(member[i])\n",
      "File \u001b[1;32mc:\\Users\\mauri\\OneDrive\\Bureaublad\\TU Delft\\Master\\Year 1\\CIEM1000\\CIEM1000_ElisabethIsland\\Preferendus\\Systems Design, Preferendus\\genetic_algorithm_pfm\\genetic_algorithm_pfm\\_decoder.py:67\u001b[0m, in \u001b[0;36m_Decoding._decode_real\u001b[1;34m(self, substring, bounds)\u001b[0m\n\u001b[0;32m     65\u001b[0m     \u001b[38;5;28mprint\u001b[39m(\u001b[38;5;28mself\u001b[39m\u001b[38;5;241m.\u001b[39mlargest_value)\n\u001b[0;32m     66\u001b[0m     \u001b[38;5;28mprint\u001b[39m(bounds[\u001b[38;5;241m1\u001b[39m])\n\u001b[1;32m---> 67\u001b[0m     \u001b[38;5;28;01mraise\u001b[39;00m \u001b[38;5;167;01mValueError\u001b[39;00m(\u001b[38;5;124m'\u001b[39m\u001b[38;5;124mX2 > 7000. Je script is kapot!\u001b[39m\u001b[38;5;124m'\u001b[39m)\n\u001b[0;32m     68\u001b[0m \u001b[38;5;28;01mreturn\u001b[39;00m bounds[\u001b[38;5;241m0\u001b[39m] \u001b[38;5;241m+\u001b[39m (integer \u001b[38;5;241m/\u001b[39m \u001b[38;5;28mself\u001b[39m\u001b[38;5;241m.\u001b[39mlargest_value) \u001b[38;5;241m*\u001b[39m (bounds[\u001b[38;5;241m1\u001b[39m] \u001b[38;5;241m-\u001b[39m bounds[\u001b[38;5;241m0\u001b[39m])\n",
      "\u001b[1;31mValueError\u001b[0m: X2 > 7000. Je script is kapot!"
     ]
    }
   ],
   "source": [
    "#two ways of optimising results\n",
    "paradigm = ['minmax', 'tetra']\n",
    "marker = ['o', '*']\n",
    "colours = ['orange','green']\n",
    "\n",
    "for i in range(2):\n",
    "    # make dictionary with parameter settings for the GA run with the IMAP solver\n",
    "    options = {\n",
    "        'n_bits': 8,\n",
    "        'n_iter': 400,\n",
    "        'n_pop': 500,\n",
    "        'r_cross': 0.8,\n",
    "        'max_stall': 8,\n",
    "        'aggregation': paradigm[i], # minmax or tetra\n",
    "        'var_type': 'real'\n",
    "    }\n",
    "\n",
    "    # run the GA and print its result\n",
    "    print(f'Run GA with ' + paradigm[i])\n",
    "    ga = GeneticAlgorithm(objective=objective, constraints=cons, bounds=bounds, options=options)\n",
    "    score_IMAP, design_variables_IMAP, _ = ga.run()"
   ]
  }
 ],
 "metadata": {
  "kernelspec": {
   "display_name": "base",
   "language": "python",
   "name": "python3"
  },
  "language_info": {
   "codemirror_mode": {
    "name": "ipython",
    "version": 3
   },
   "file_extension": ".py",
   "mimetype": "text/x-python",
   "name": "python",
   "nbconvert_exporter": "python",
   "pygments_lexer": "ipython3",
   "version": "3.12.11"
  }
 },
 "nbformat": 4,
 "nbformat_minor": 5
}
