{
 "cells": [
  {
   "cell_type": "markdown",
   "id": "da441392",
   "metadata": {},
   "source": [
    "In this file we will create the 2x2 file"
   ]
  },
  {
   "cell_type": "markdown",
   "id": "c7a01bae",
   "metadata": {},
   "source": [
    "Here would be the code"
   ]
  }
 ],
 "metadata": {
  "language_info": {
   "name": "python"
  }
 },
 "nbformat": 4,
 "nbformat_minor": 5
}
