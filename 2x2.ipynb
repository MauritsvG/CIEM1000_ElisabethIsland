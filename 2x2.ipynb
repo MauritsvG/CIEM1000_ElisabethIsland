{
 "cells": [
  {
   "cell_type": "markdown",
   "id": "da441392",
   "metadata": {},
   "source": [
    "In this file we will create the 2x2 file"
   ]
  },
  {
   "cell_type": "markdown",
   "id": "c7a01bae",
   "metadata": {},
   "source": [
    "## Coding of the 2x2 matrix"
   ]
  },
  {
   "cell_type": "code",
   "execution_count": null,
   "id": "e00ecf52",
   "metadata": {},
   "outputs": [],
   "source": [
    "import numpy as np\n",
    "import pandas as pd\n",
    "from scipy.optimize import minimize, LinearConstraint, milp\n",
    "import matplotlib.pyplot as plt\n",
    "from matplotlib.patches import Polygon\n",
    "\n",
    "from Preferendus import generic_algorithm_pfm\n",
    "from generic_algorithm_pfm import algorithm\n",
    "\n",
    "%matplotlib inline\n",
    "plt.rcParams['figure.dpi'] = 400\n",
    "plt.rcParams.update({'font.size': 14})"
   ]
  },
  {
   "cell_type": "code",
   "execution_count": null,
   "id": "0e43c719",
   "metadata": {},
   "outputs": [],
   "source": [
    "c1 = 25   # Costs per material m3\n",
    "c2 = 4   # Cost of fuel use per L\n",
    "c3 = 0.1   # Emission of materials per m3\n",
    "c4 = 1.2   # Emission of fuel per L\n",
    "k1 = 1.7   # Height of island\n",
    "k2 = 1.9   # Ship size\n",
    "k3 = 0.9   # fuel use per km\n",
    "F1 = x1 * k1\n",
    "F2 = k3 * ((F1 / k2) *x2)\n",
    "O1 = F1 * c1 + F2 * c2\n",
    "O2 = F1 * c3 + F2 * c4\n",
    "\n",
    "\n"
   ]
  }
 ],
 "metadata": {
  "kernelspec": {
   "display_name": "mude-base",
   "language": "python",
   "name": "python3"
  },
  "language_info": {
   "codemirror_mode": {
    "name": "ipython",
    "version": 3
   },
   "file_extension": ".py",
   "mimetype": "text/x-python",
   "name": "python",
   "nbconvert_exporter": "python",
   "pygments_lexer": "ipython3",
   "version": "3.12.11"
  }
 },
 "nbformat": 4,
 "nbformat_minor": 5
}
